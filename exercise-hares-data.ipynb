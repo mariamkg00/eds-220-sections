{
 "cells": [
  {
   "cell_type": "markdown",
   "id": "ed51ddae-7934-4b73-a590-af0d15884808",
   "metadata": {},
   "source": [
    "## Data Cleaning\n",
    "\n",
    "### Archive Exploration"
   ]
  },
  {
   "cell_type": "markdown",
   "id": "4c1759b7-18a9-466b-a5e6-780668d21413",
   "metadata": {},
   "source": [
    "a. This data is a capture-recapture study of snowshoe hare data. This data monitors the age the hare was captured, weight, along with other physical attributes. \n",
    "b. The timeframe to which this data was collected started in 1999 to 2002. \n",
    "c. The metadata does not mention whether or not the data is sensitive. \n",
    "d. This dataset is associated with an LTER publication. "
   ]
  },
  {
   "cell_type": "markdown",
   "id": "3ed8bec5-2e3c-4755-ab2e-93d4341037b6",
   "metadata": {
    "tags": []
   },
   "source": [
    "Citation:\n",
    "    Kielland, K., F.S. Chapin, R.W. Ruess, and Bonanza Creek LTER. 2017. Snowshoe hare physical data in Bonanza Creek Experimental Forest: 1999-Present ver 22. Environmental Data Initiative. https://doi.org/10.6073/pasta/03dce4856d79b91557d8e6ce2cbcdc14 (Accessed 2023-10-19).\n",
    "    \n"
   ]
  },
  {
   "cell_type": "markdown",
   "id": "64ff3e4e-ee9c-4a93-86d7-23d8df26c5bc",
   "metadata": {},
   "source": [
    "### 9.2 Adding an image"
   ]
  },
  {
   "cell_type": "code",
   "execution_count": null,
   "id": "6f3b416d-a7a5-4c3f-a6ce-9130d2d643cd",
   "metadata": {},
   "outputs": [],
   "source": [
    "![snowshoe hare][]"
   ]
  }
 ],
 "metadata": {
  "kernelspec": {
   "display_name": "Anaconda 3 (Base)",
   "language": "python",
   "name": "base"
  },
  "language_info": {
   "codemirror_mode": {
    "name": "ipython",
    "version": 3
   },
   "file_extension": ".py",
   "mimetype": "text/x-python",
   "name": "python",
   "nbconvert_exporter": "python",
   "pygments_lexer": "ipython3",
   "version": "3.9.13"
  }
 },
 "nbformat": 4,
 "nbformat_minor": 5
}
